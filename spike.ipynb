{
  "nbformat": 4,
  "nbformat_minor": 0,
  "metadata": {
    "colab": {
      "name": "spike.ipynb",
      "provenance": [],
      "collapsed_sections": [],
      "authorship_tag": "ABX9TyPRE0DUiJxkDoukpHb8IVYA"
    },
    "kernelspec": {
      "name": "python3",
      "display_name": "Python 3"
    }
  },
  "cells": [
    {
      "cell_type": "markdown",
      "metadata": {
        "id": "A5dnf4Llx8dP"
      },
      "source": [
        "# Project SPIKE: a study on spiking neural networks\r\n",
        "Rodrigo Pereira Cruz <br>\r\n",
        "pereirarodrigocs@gmail.com <br>\r\n",
        "<br>\r\n",
        "***\r\n",
        "\r\n",
        "> This Jupyter notebook is used for studying spiking neural networks, more specifically the leaky integrate-and-fire model. It is focused on its applications in machine learning, reinforcement learning and its overall impact on computational intelligence. As stated in the readme file, this project will make heavy use of BindsNET for neural simulations."
      ]
    },
    {
      "cell_type": "markdown",
      "metadata": {
        "id": "Clq0mWG_RaUR"
      },
      "source": [
        "## 1. Brief introduction to neuronal dynamics\r\n",
        "***\r\n",
        "Neurons can be divided into three different parts: dendrites, soma and axon. The dendrites, roughly speaking, act as the neuron's input receivers and relay this information directly to the neuron's body, the soma, which essentially acts as a processing unit: should the processed input exceed a certain threshold, then an output signal is generated and transmitted to the axon, which relays the output to other neurons. The junction between two neurons is known as the synapse - the terms presynaptic and postsynaptic originate from this definition, and are often used to designate a neuron that transmits information and a neuron that receives it, respectively.\r\n",
        "\r\n",
        "<br>\r\n",
        "\r\n",
        "<center>\r\n",
        "\r\n",
        "![Neuron](https://neuronaldynamics.epfl.ch/online/x3.png)\r\n",
        "\r\n",
        "<br>\r\n",
        "\r\n",
        "<font size = \"2\"> **Fig. 1**: The overall structure of a neuron, with information being transmitted between them (represented by the arrows). Here, we have $j$ as the presynaptic neuron and $i$ as the postsynaptic one. Source: https://neuronaldynamics.epfl.ch/online/x3.png. </font>\r\n",
        "\r\n",
        "<br>\r\n",
        "\r\n",
        "</center>\r\n",
        "\r\n",
        "<br>\r\n",
        "\r\n",
        "\r\n",
        "Thus, in a neuronal system, neurons must be able to communicate with each other all the time. This communication, which is an electrical process, happens through action potentials, an event that is driven by a sum of changes in the membrane potential, which generate a spike when crossing a stimulation threshold.\r\n",
        "\r\n",
        "<br>\r\n",
        "\r\n",
        "<center>\r\n",
        "\r\n",
        "![Neuron action potential](https://neuronaldynamics.epfl.ch/online/x9.png)\r\n",
        "\r\n",
        "<br>\r\n",
        "\r\n",
        "<font size = \"2\"> **Fig. 2**: Two sequential presynaptic neuron spikes, received as input in a postsynaptic neuron, cause two postsynaptic potentials that become a cumulative action potential. Note that the threshold $\\vartheta$ is not reached, thus a spike is not produced. Source: https://neuronaldynamics.epfl.ch/online/x9.png. </font>\r\n",
        "\r\n",
        "<br>\r\n",
        "\r\n",
        "</center>\r\n",
        "\r\n",
        "<br>\r\n",
        "\r\n",
        "Consider a presynaptic neuron $j = 1$ and a postsynaptic neuron $i$. Neuron $j = 1$ fires spikes at $t_1^{(1)}, t_1^{(2)}, ...$. Each of those spikes evokes a postsynaptic potential $\\epsilon_{i1}$, which is defined, mathematically, as\r\n",
        "\r\n",
        "<br>\r\n",
        "\r\n",
        "$$u_i(t) = \\sum_j \\epsilon_{i1}(t - t_1^{(j)}) + u_{rest}$$\r\n",
        "\r\n",
        "<br>\r\n",
        "\r\n",
        "where $u_{rest}$ corresponds to the neuron's at rest state value, which is $\\approx \\mbox{-65 } mV$.\r\n",
        "\r\n",
        "<br>\r\n",
        "\r\n",
        "Should there be more spikes, such that $j = 1, 2$ for example, the total change of the potential takes a cumulative linear form, such that\r\n",
        "\r\n",
        "<br>\r\n",
        "\r\n",
        "$$u_i(t) = \\sum_j \\sum_f \\epsilon_{ij}(t - t_j^{(f)}) + u_{rest}$$\r\n",
        "\r\n",
        "<br>\r\n",
        "\r\n",
        "so long as there are only a few input spikes.\r\n"
      ]
    },
    {
      "cell_type": "markdown",
      "metadata": {
        "id": "WFYYWQVzhKoq"
      },
      "source": [
        "#2. Leaky integrate-and-fire model\r\n",
        "***\r\n",
        "Neuron models where action potentials are described as events are known as \"integrate-and-fire\" models. in those models, there are only 2 components that are relevant to their overall dynamics: an equation that describes the evolution of the membrane potential $u_i(t)$, and a mechanism for spike generation. \r\n",
        "\r\n",
        "In the case of the leaky integrate-and-fire model, we use a more specific version of the same 2 components specified previously: a linear differential equation to describe the evolution of the membrane potential, and a threshold for spike firing. The standard form of the linear differential equation is\r\n",
        "\r\n",
        "<br>\r\n",
        "\r\n",
        "$$\\tau_m \\frac{du}{dt} = - |u(t) - u_{rest}| +  \\mbox{R } I(t)$$\r\n",
        "\r\n",
        "<br>\r\n",
        "\r\n",
        "where:\r\n",
        "\r\n",
        "<br>\r\n",
        "\r\n",
        "* $R$ = cell membrane's finite leak resistance (acts as a resistor); <br>\r\n",
        "* $C$ = cell membrane capacity (acts as a capacitor); <br>\r\n",
        "* $u$ = membrane potential; <br>\r\n",
        "* $u_{rest}$ = neuron's at rest state value; <br>\r\n",
        "* $|u(t) - u_{rest}|$ = momentary voltage; <br>\r\n",
        "* $I(t)$ = positive input current; <br>\r\n",
        "* $\\tau_m$ = membrane time constant of the neuron, $R \\times C$\r\n",
        "\r\n",
        "<br>\r\n",
        "\r\n",
        "Suppose that, at time $t = 0$ the membrane takes a value $u_{rest} + \\Delta u$ (with $\\Delta u = u_{final} - u_{initial}$). For $t > 0$, the input $I(t)$ vanishes, so $I(t) = 0$. Given this result, it's expected that, if we wait long enough, the membrane potential will be restored to its $u_{rest}$ value, i.e. the neuron will be at rest. Indeed, the solution of the aforementioned linear differential equation \r\n",
        "\r\n"
      ]
    },
    {
      "cell_type": "code",
      "metadata": {
        "id": "njWSxgt2rcBI"
      },
      "source": [
        "# Installing BindsNET\r\n",
        "#!pip install git+https://github.com/BindsNET/bindsnet.git\r\n",
        "\r\n",
        "from bindsnet.network import Network"
      ],
      "execution_count": null,
      "outputs": []
    }
  ]
}