{
  "nbformat": 4,
  "nbformat_minor": 0,
  "metadata": {
    "colab": {
      "name": "fuzzy.ipynb",
      "provenance": [],
      "collapsed_sections": [],
      "authorship_tag": "ABX9TyPtfLp+fBW9BswzbjntR6ef"
    },
    "kernelspec": {
      "name": "python3",
      "display_name": "Python 3"
    }
  },
  "cells": [
    {
      "cell_type": "markdown",
      "metadata": {
        "id": "Uq1f5IMGhT4P"
      },
      "source": [
        "# Fuzzy logic and inference in computational intelligence\r\n",
        "Rodrigo Pereira Cruz <br>\r\n",
        "pereirarodrigocs@gmail.com <br>\r\n",
        "<br>\r\n",
        "***\r\n",
        "\r\n",
        "> This is a Jupyter notebook used for studying fuzzy logic and fuzzy inference in computational intelligence. The focus here is on the theoretical applications of the subjects mentioned previously. Please note that vagueness and imprecision are in no way related to probability, given we are dealing with approximate reasoning rather than the chances of some event happening. \r\n",
        "\r\n",
        "> The Python programming language proved itself to be an interesting choice for this project, given its abudance of libraries and ease of use makes working with fuzzy logic much easier.\r\n",
        "\r\n",
        "\r\n"
      ]
    },
    {
      "cell_type": "markdown",
      "metadata": {
        "id": "dnEYyx6-pjEC"
      },
      "source": [
        "## 1. Introduction to fuzzy logic\r\n",
        "***\r\n",
        "When dealing with uncertain events or missing data, regular mathematical logic (and even predicate logic) will not be useful, given it requires true/false situations in order to be employed as a viable option - this is where fuzzy logic comes in.\r\n",
        "\r\n",
        "Fuzzy logic makes use of crisp (or fuzzy) sets, where each member has a degree of membership such that $0 \\leq x \\leq 1$ - should the element have a degree of 0, it does not belong in the fuzzy set. We can adapt this idea into a simple example, as shown below in Python:"
      ]
    },
    {
      "cell_type": "code",
      "metadata": {
        "id": "XCcIC9i58JTK",
        "colab": {
          "base_uri": "https://localhost:8080/",
          "height": 312
        },
        "outputId": "87898a54-6868-4d29-9ccc-c67e524ba3ae"
      },
      "source": [
        "# Simple Python script that creates a fuzzy-like set and plots it\r\n",
        "\r\n",
        "import matplotlib.pyplot as plt\r\n",
        "import numpy as np\r\n",
        "\r\n",
        "X = [1 if x >= 2 and x <= 10 else 0 for x in range(25)]\r\n",
        "\r\n",
        "# Optional: converting the list into a NumPy array\r\n",
        "X = np.asarray(X)\r\n",
        "\r\n",
        "plt.xlabel(\"Element\")\r\n",
        "plt.ylabel(\"'Membership level'\")\r\n",
        "plt.title(\"Simple fuzzy-style plot\")\r\n",
        "plt.grid(True, which = \"both\")\r\n",
        "plt.plot(X, drawstyle = \"steps-pre\")"
      ],
      "execution_count": null,
      "outputs": [
        {
          "output_type": "execute_result",
          "data": {
            "text/plain": [
              "[<matplotlib.lines.Line2D at 0x7f8b069a4c18>]"
            ]
          },
          "metadata": {
            "tags": []
          },
          "execution_count": 17
        },
        {
          "output_type": "display_data",
          "data": {
            "image/png": "[encoded data removed]",
            "text/plain": [
              "<Figure size 432x288 with 1 Axes>"
            ]
          },
          "metadata": {
            "tags": [],
            "needs_background": "light"
          }
        }
      ]
    },
    {
      "cell_type": "markdown",
      "metadata": {
        "id": "5yhJVFniEvFv"
      },
      "source": [
        "Generally speaking, a crisp set $(A, \\mu A)$ can be described in two ways:\r\n",
        "\r\n",
        "<br>\r\n",
        "\r\n",
        "$\\mu A: S \\Rightarrow [0, 1]$ = returns elements such that $0 \\leq x \\leq 1$; <br>\r\n",
        "$\\mu A(x): S \\Rightarrow [0, 1]$ = returns the degree of membership of a set element\r\n",
        "\r\n",
        "<br>\r\n",
        "\r\n",
        "The membership function $\\mu A(x)$ can be of different kinds, with some of the most common ones being the gaussian, triangular and trapezoid variations. The Python code below shows the triangular membership function in action:"
      ]
    },
    {
      "cell_type": "code",
      "metadata": {
        "colab": {
          "base_uri": "https://localhost:8080/",
          "height": 281
        },
        "id": "kTITNbExI462",
        "outputId": "bee7c930-d373-4966-b05a-af9741b0597d"
      },
      "source": [
        "# Python code that uses temperature variance as an example\r\n",
        "# Applies the triangular membership function to the crisp/fuzzy set \r\n",
        "\r\n",
        "# !pip install -U scikit-fuzzy\r\n",
        "import numpy as np\r\n",
        "import skfuzzy as fuzz\r\n",
        "from skfuzzy import control as ctrl\r\n",
        "\r\n",
        "temp = ctrl.Antecedent(np.arange(0, 31, 1), \"Temperature (ºC)\")\r\n",
        "\r\n",
        "temp[\"cold\"] = fuzz.trimf(temp.universe, [0, 0, 15])\r\n",
        "temp[\"mild\"] = fuzz.trimf(temp.universe, [0, 15, 30])\r\n",
        "temp[\"hot\"] = fuzz.trimf(temp.universe, [15, 30, 30])\r\n",
        "\r\n",
        "temp.view()"
      ],
      "execution_count": null,
      "outputs": [
        {
          "output_type": "display_data",
          "data": {
            "image/png": "[encoded data removed]",
            "text/plain": [
              "<Figure size 432x288 with 1 Axes>"
            ]
          },
          "metadata": {
            "tags": [],
            "needs_background": "light"
          }
        }
      ]
    },
    {
      "cell_type": "markdown",
      "metadata": {
        "id": "o9Ks-tUUTd9I"
      },
      "source": [
        "## 2. Fuzzy inference\r\n",
        "***\r\n",
        "Fuzzy inference consists of a method that interprets data from the input and, based on fuzzy rules, assigns values to an output vector. It makes heavy usage of \"IF... THEN\" rules and \"OR\" and \"AND\" connectors for decision-making.\r\n",
        "\r\n",
        "<br>\r\n",
        "\r\n",
        "<center><font size = \"2\"><b>Figure 1</b>: the general structure of a fuzzy inference system\r\n",
        "\r\n",
        "\r\n",
        "![Fuzzy inference system](https://miro.medium.com/max/537/1*ArAJV83q01pz2thVR9yHNw.jpeg)\r\n",
        "\r\n",
        "**Source**: https://miro.medium.com/max/537/1*ArAJV83q01pz2thVR9yHNw.jpeg</font></center>\r\n",
        "\r\n",
        "<br>\r\n",
        "\r\n",
        "The figure above illustrates the composition of a fuzzy inference system, which consists of 4 essential parts: \r\n",
        "\r\n",
        "<br>\r\n",
        "\r\n",
        "* **Fuzzification**: the crisp input data gets mapped into a fuzzy function (i.e. where the membership functions are used); <br>\r\n",
        "* **Knowledge base**: where all the information about the system's domain is held. It consists of definitions and fuzzy rules that can, interestingly, benefit from being fine-tuned by other algorithms, such as genetic algorithms and neural networks; <br>\r\n",
        "* **Inference engine**: where the decision-making process takes place. Based on the system's knowledge base, the system will reach a conclusion about a specific task; <br>\r\n",
        "* **Defuzzification**: \r\n",
        "\r\n",
        "<br>"
      ]
    },
    {
      "cell_type": "code",
      "metadata": {
        "id": "QGvR7kD_xQoa"
      },
      "source": [
        ""
      ],
      "execution_count": null,
      "outputs": []
    }
  ]
}