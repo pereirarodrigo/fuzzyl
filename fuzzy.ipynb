{
  "nbformat": 4,
  "nbformat_minor": 0,
  "metadata": {
    "colab": {
      "name": "fuzzy.ipynb",
      "provenance": [],
      "collapsed_sections": [],
      "authorship_tag": "ABX9TyNC1Xuj9MeeffSN6VzQ4YYu",
      "include_colab_link": true
    },
    "kernelspec": {
      "name": "python3",
      "display_name": "Python 3"
    }
  },
  "cells": [
    {
      "cell_type": "markdown",
      "metadata": {
        "id": "view-in-github",
        "colab_type": "text"
      },
      "source": [
        "<a href=\"https://colab.research.google.com/github/pereirarodrigo/fuzzyl/blob/main/fuzzy.ipynb\" target=\"_parent\"><img src=\"https://colab.research.google.com/assets/colab-badge.svg\" alt=\"Open In Colab\"/></a>"
      ]
    },
    {
      "cell_type": "markdown",
      "metadata": {
        "id": "Uq1f5IMGhT4P"
      },
      "source": [
        "# Fuzzy logic and inference in computational intelligence\r\n",
        "Rodrigo Pereira Cruz <br>\r\n",
        "pereirarodrigocs@gmail.com <br>\r\n",
        "<br>\r\n",
        "***\r\n",
        "\r\n",
        "> This is a Jupyter notebook used for studying fuzzy logic and fuzzy inference in computational intelligence. The focus here is on the theoretical applications of the subjects mentioned previously. Please note that uncertainty is in no way related to probability, given we are dealing with approximate reasoning rather than the chances of some event happening. \r\n",
        "\r\n",
        "> The Python programming language proved itself to be an interesting choice for this project, given its abudance of libraries and ease of use makes working with fuzzy logic much easier.\r\n",
        "\r\n",
        "\r\n"
      ]
    },
    {
      "cell_type": "markdown",
      "metadata": {
        "id": "dnEYyx6-pjEC"
      },
      "source": [
        "## 1. Introduction to fuzzy logic\r\n",
        "***\r\n",
        "When dealing with uncertain events or missing data, regular mathematical logic (and even predicate logic) will not be useful, given it requires true/false situations in order to be employed as a viable option - this is where fuzzy logic comes in.\r\n",
        "\r\n",
        "Fuzzy logic makes use of crisp (or fuzzy) sets, where each member has a degree of membership such that $0 \\leq x \\leq 1$ - should the element have a degree of 0, it does not belong in the fuzzy set. "
      ]
    },
    {
      "cell_type": "code",
      "metadata": {
        "id": "XCcIC9i58JTK"
      },
      "source": [
        ""
      ],
      "execution_count": null,
      "outputs": []
    }
  ]
}