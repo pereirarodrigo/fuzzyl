{
  "nbformat": 4,
  "nbformat_minor": 0,
  "metadata": {
    "colab": {
      "name": "fuzzy.ipynb",
      "provenance": [],
      "collapsed_sections": [],
      "toc_visible": true,
      "authorship_tag": "ABX9TyO8NWawkCKqldotvr8l/TC1"
    },
    "kernelspec": {
      "name": "python3",
      "display_name": "Python 3"
    }
  },
  "cells": [
    {
      "cell_type": "markdown",
      "metadata": {
        "id": "Uq1f5IMGhT4P"
      },
      "source": [
        "# Fuzzy logic and inference in computational intelligence\r\n",
        "Rodrigo Pereira Cruz <br>\r\n",
        "pereirarodrigocs@gmail.com <br>\r\n",
        "<br>\r\n",
        "***\r\n",
        "\r\n",
        "> This is a Jupyter notebook used for studying fuzzy logic and fuzzy inference in computational intelligence. The focus here is on the theoretical applications of the subjects mentioned previously. Please note that vagueness and imprecision are in no way related to probability, given we are dealing with approximate reasoning rather than the chances of some event happening. \r\n",
        "\r\n",
        "> The Python programming language proved itself to be an interesting choice for this project, given its abudance of libraries and ease of use makes working with fuzzy logic much easier.\r\n",
        "\r\n",
        "\r\n"
      ]
    },
    {
      "cell_type": "markdown",
      "metadata": {
        "id": "dnEYyx6-pjEC"
      },
      "source": [
        "## 1. Introduction to fuzzy logic\r\n",
        "***\r\n",
        "When dealing with uncertain events or missing data, regular mathematical logic (and even predicate logic) will not be useful, given it requires true/false situations in order to be employed as a viable option - this is where fuzzy logic comes in.\r\n",
        "\r\n",
        "Fuzzy logic makes use of crisp (or fuzzy) sets, where each member has a degree of membership such that $0 \\leq x \\leq 1$ - should the element have a degree of 0, it does not belong in the fuzzy set. We can adapt this idea into a simple example, as shown below in Python:"
      ]
    },
    {
      "cell_type": "code",
      "metadata": {
        "id": "XCcIC9i58JTK",
        "colab": {
          "base_uri": "https://localhost:8080/",
          "height": 312
        },
        "outputId": "40c7aa99-b577-450e-da1a-64e1e612c87b"
      },
      "source": [
        "# Simple Python script that creates a fuzzy-like set and plots it\r\n",
        "\r\n",
        "import matplotlib.pyplot as plt\r\n",
        "import numpy as np\r\n",
        "\r\n",
        "X = [1 if x >= 2 and x <= 10 else 0 for x in range(25)]\r\n",
        "\r\n",
        "# Optional: converting the list into a NumPy array\r\n",
        "X = np.asarray(X)\r\n",
        "\r\n",
        "plt.xlabel(\"Element\")\r\n",
        "plt.ylabel(\"'Membership level'\")\r\n",
        "plt.title(\"Simple fuzzy-style plot\")\r\n",
        "plt.grid(True, which = \"both\")\r\n",
        "plt.plot(X, drawstyle = \"steps-pre\")"
      ],
      "execution_count": null,
      "outputs": [
        {
          "output_type": "execute_result",
          "data": {
            "text/plain": [
              "[<matplotlib.lines.Line2D at 0x7f5fbd560dd8>]"
            ]
          },
          "metadata": {
            "tags": []
          },
          "execution_count": 8
        },
        {
          "output_type": "display_data",
          "data": {
            "image/png": "[encoded data removed]",
            "text/plain": [
              "<Figure size 432x288 with 1 Axes>"
            ]
          },
          "metadata": {
            "tags": [],
            "needs_background": "light"
          }
        }
      ]
    },
    {
      "cell_type": "markdown",
      "metadata": {
        "id": "5yhJVFniEvFv"
      },
      "source": [
        "Generally speaking, a crisp set $(A, \\mu A)$ can be described in two ways:\r\n",
        "\r\n",
        "<br>\r\n",
        "\r\n",
        "$\\mu_A: S \\Rightarrow [0, 1]$ = returns elements such that $0 \\leq x \\leq 1$; <br>\r\n",
        "$\\mu_A(x): S \\Rightarrow [0, 1]$ = returns the degree of membership of a set element\r\n",
        "\r\n",
        "<br>\r\n",
        "\r\n",
        "The membership function $\\mu_A(x)$ can be of different kinds, with some of the most common ones being the gaussian, triangular and trapezoid variations. The Python code below shows the triangular membership function in action:"
      ]
    },
    {
      "cell_type": "code",
      "metadata": {
        "id": "kTITNbExI462",
        "colab": {
          "base_uri": "https://localhost:8080/"
        },
        "outputId": "9825bff1-aea0-4f23-da1f-0c1834ac76bd"
      },
      "source": [
        "# Python code that uses temperature variance as an example\r\n",
        "# Applies the triangular membership function to the crisp/fuzzy set \r\n",
        "\r\n",
        "# Importing the required libraries\r\n",
        "!pip install scikit-fuzzy\r\n",
        "\r\n",
        "import skfuzzy as fuzz\r\n",
        "import numpy as np\r\n",
        "from skfuzzy import control as ctrl"
      ],
      "execution_count": null,
      "outputs": [
        {
          "output_type": "stream",
          "text": [
            "Requirement already satisfied: scikit-fuzzy in /usr/local/lib/python3.6/dist-packages (0.4.2)\n",
            "Requirement already satisfied: numpy>=1.6.0 in /usr/local/lib/python3.6/dist-packages (from scikit-fuzzy) (1.19.5)\n",
            "Requirement already satisfied: scipy>=0.9.0 in /usr/local/lib/python3.6/dist-packages (from scikit-fuzzy) (1.4.1)\n",
            "Requirement already satisfied: networkx>=1.9.0 in /usr/local/lib/python3.6/dist-packages (from scikit-fuzzy) (2.5)\n",
            "Requirement already satisfied: decorator>=4.3.0 in /usr/local/lib/python3.6/dist-packages (from networkx>=1.9.0->scikit-fuzzy) (4.4.2)\n"
          ],
          "name": "stdout"
        }
      ]
    },
    {
      "cell_type": "markdown",
      "metadata": {
        "id": "QItgAaGIcRL1"
      },
      "source": [
        "#### Creating our data and showing the results\r\n",
        "***\r\n",
        "We use the triangular membership function here, which is defined, mathematically, as\r\n",
        "\r\n",
        "<br>\r\n",
        "\r\n",
        "$$\\mu_A(x) = \\begin{cases} 0 & \\mbox{if } x \\leq a \\\\ \\frac{x - a}{b - a} & \\mbox{if } a \\leq x \\leq b \\\\ \\frac{c - x}{c - b} & \\mbox{if } b \\leq x \\leq c \\\\ 0 & \\mbox{if } x \\geq b \\end{cases}$$\r\n",
        "\r\n",
        "<br>\r\n",
        "\r\n",
        "where $a$ is a lower limit, $b$ is an upper limit and $m$ is a value such that $a < b < c$."
      ]
    },
    {
      "cell_type": "code",
      "metadata": {
        "colab": {
          "base_uri": "https://localhost:8080/",
          "height": 281
        },
        "id": "hEf4xw_3Wscl",
        "outputId": "2d660c77-bebe-4ad9-949c-9f242ac0d567"
      },
      "source": [
        "temp = ctrl.Antecedent(np.arange(0, 31, 1), \"Temperature (ºC)\")\r\n",
        "\r\n",
        "temp[\"cold\"] = fuzz.trimf(temp.universe, [0, 0, 15])\r\n",
        "temp[\"mild\"] = fuzz.trimf(temp.universe, [0, 15, 30])\r\n",
        "temp[\"hot\"] = fuzz.trimf(temp.universe, [15, 30, 30])\r\n",
        "\r\n",
        "temp.view()"
      ],
      "execution_count": null,
      "outputs": [
        {
          "output_type": "display_data",
          "data": {
            "image/png": "[encoded data removed]",
            "text/plain": [
              "<Figure size 432x288 with 1 Axes>"
            ]
          },
          "metadata": {
            "tags": [],
            "needs_background": "light"
          }
        }
      ]
    },
    {
      "cell_type": "markdown",
      "metadata": {
        "id": "o9Ks-tUUTd9I"
      },
      "source": [
        "## 2. Fuzzy inference\r\n",
        "***\r\n",
        "Fuzzy inference consists of a method that interprets data from the input and, based on fuzzy rules, assigns values to an output vector. It makes heavy usage of \"IF... THEN\" rules and \"OR\" and \"AND\" connectors for decision-making.\r\n",
        "\r\n",
        "<br>\r\n",
        "\r\n",
        "<center><font size = \"2\"><b>Figure 1</b>: the general structure of a fuzzy inference system\r\n",
        "\r\n",
        "\r\n",
        "![Fuzzy inference system](https://miro.medium.com/max/537/1*ArAJV83q01pz2thVR9yHNw.jpeg)\r\n",
        "\r\n",
        "**Source**: https://miro.medium.com/max/537/1*ArAJV83q01pz2thVR9yHNw.jpeg</font></center>\r\n",
        "\r\n",
        "<br>\r\n",
        "\r\n",
        "The figure above illustrates the composition of a fuzzy inference system, which consists of 4 essential parts: \r\n",
        "\r\n",
        "<br>\r\n",
        "\r\n",
        "* **Fuzzification**: the crisp input data gets mapped into a fuzzy function (i.e. where the membership functions are used); <br>\r\n",
        "* **Knowledge base**: where all the information about the system's domain is held. It consists of definitions and fuzzy rules that can, interestingly, benefit from being fine-tuned by other algorithms, such as genetic algorithms and neural networks; <br>\r\n",
        "* **Inference engine**: the decision-making process takes place here. Based on the knowledge base, the system will reach a conclusion about a specific task; <br>\r\n",
        "* **Defuzzification**: converts fuzzy control values into crisp quantities; essentially, it is the opposite of what's done in the fuzzification step, as now we get a single point that links back to the fuzzy set. Although many defuzzification techniques exist, one of the most common is the center-of-area/center-of-gravity which is, mathematically, defined as\r\n",
        "\r\n",
        "<br>\r\n",
        "\r\n",
        "$$\\overline{x} = \\frac{\\sum_i x_i \\mu(x_i)}{\\sum_i \\mu(x_i)}$$\r\n",
        "\r\n",
        "<br>\r\n",
        "\r\n",
        "where\r\n",
        "\r\n",
        "<br>\r\n",
        "\r\n",
        "$x_i$ = element; <br>\r\n",
        "$\\mu(x_i)$ = membership function.\r\n",
        "\r\n",
        "<br>\r\n",
        "\r\n",
        "By once again using SciKit-Fuzzy, the process of creating a fuzzy inference system is simplified, as shown in the code below:"
      ]
    },
    {
      "cell_type": "code",
      "metadata": {
        "id": "6DOf58Mk87xm"
      },
      "source": [
        "# Very simple fuzzy inference system using SciKit-Fuzzy\r\n",
        "# A simplified weather forecast model is used as an example\r\n",
        "\r\n",
        "# Generating the data we need\r\n",
        "temp_range = np.arange(-10, 41, 1)\r\n",
        "weather_range = np.arange(0, 11, 1)\r\n",
        "sunny = ctrl.Antecedent(weather_range, \"sunny\")\r\n",
        "snowy = ctrl.Antecedent(weather_range, \"snowy\")\r\n",
        "temp = ctrl.Consequent(temp_range, \"temperature\")"
      ],
      "execution_count": null,
      "outputs": []
    },
    {
      "cell_type": "markdown",
      "metadata": {
        "id": "AFhc3nygbrRl"
      },
      "source": [
        "#### Using the triangular membership function"
      ]
    },
    {
      "cell_type": "code",
      "metadata": {
        "id": "3m5HaUKHW-zN"
      },
      "source": [
        "temp_cold_mfx = fuzz.trimf(temp.universe, [-10, -10, 15])\r\n",
        "temp_mild_mfx = fuzz.trimf(temp.universe, [-10, 15, 35])\r\n",
        "temp_hot_mfx = fuzz.trimf(temp.universe, [15, 40, 40])\r\n",
        "\r\n",
        "temp[\"cold\"] = temp_cold_mfx\r\n",
        "temp[\"mild\"] = temp_mild_mfx\r\n",
        "temp[\"hot\"] = temp_hot_mfx\r\n",
        "\r\n",
        "# We can use .automf to apply a membership function automatically to other objects\r\n",
        "sunny.automf(3, names = [\"barely\", \"normal\", \"very\"])\r\n",
        "snowy.automf(3, names = [\"no snow\", \"normal\", \"heavy\"])"
      ],
      "execution_count": null,
      "outputs": []
    },
    {
      "cell_type": "markdown",
      "metadata": {
        "id": "qCJNIdmmb7I3"
      },
      "source": [
        "#### Checking our results"
      ]
    },
    {
      "cell_type": "code",
      "metadata": {
        "id": "GKNyI3V9W_E9"
      },
      "source": [
        "#temp.view()\r\n",
        "#sunny.view()\r\n",
        "#snowy.view()"
      ],
      "execution_count": null,
      "outputs": []
    },
    {
      "cell_type": "markdown",
      "metadata": {
        "id": "u2tY6vK9b-BF"
      },
      "source": [
        "#### Setting rules in our knowledge base"
      ]
    },
    {
      "cell_type": "code",
      "metadata": {
        "id": "pjXpGsIpXH6V"
      },
      "source": [
        "rule1 = ctrl.Rule(snowy[\"heavy\"] | sunny[\"barely\"], temp[\"cold\"])\r\n",
        "rule2 = ctrl.Rule(sunny[\"normal\"],  temp[\"mild\"])\r\n",
        "rule3 = ctrl.Rule(sunny[\"very\"] | snowy[\"no snow\"], temp[\"hot\"])\r\n",
        "\r\n",
        "# Checking our rules\r\n",
        "#rule1.view()\r\n",
        "#rule2.view()\r\n",
        "#rule3.view()"
      ],
      "execution_count": null,
      "outputs": []
    },
    {
      "cell_type": "markdown",
      "metadata": {
        "id": "k7L7zH_1cK2N"
      },
      "source": [
        "#### Establishing our control system for inputs"
      ]
    },
    {
      "cell_type": "code",
      "metadata": {
        "colab": {
          "base_uri": "https://localhost:8080/",
          "height": 298
        },
        "id": "gGZ0bQ9-XP4F",
        "outputId": "08ae4fa1-59bf-4242-b03a-d27320f6be0b"
      },
      "source": [
        "weather_ctrl = ctrl.ControlSystem([rule1, rule2, rule3])\r\n",
        "weather = ctrl.ControlSystemSimulation(weather_ctrl)\r\n",
        "\r\n",
        "# Computing and showing the output value for a scenario\r\n",
        "weather.input[\"sunny\"] = 2.0\r\n",
        "weather.input[\"snowy\"] = 6.5\r\n",
        "\r\n",
        "weather.compute()\r\n",
        "\r\n",
        "print(f\"Resulting suggested temperature: {weather.output['temperature']}\")\r\n",
        "temp.view(sim = weather)"
      ],
      "execution_count": null,
      "outputs": [
        {
          "output_type": "stream",
          "text": [
            "Resulting suggested temperature: 8.682539682539682\n"
          ],
          "name": "stdout"
        },
        {
          "output_type": "display_data",
          "data": {
            "image/png": "[encoded data removed]",
            "text/plain": [
              "<Figure size 432x288 with 1 Axes>"
            ]
          },
          "metadata": {
            "tags": [],
            "needs_background": "light"
          }
        }
      ]
    },
    {
      "cell_type": "markdown",
      "metadata": {
        "id": "cdyJB8Uv7WcD"
      },
      "source": [
        "## 3. Fuzzy inference in an intelligent system\r\n",
        "***\r\n",
        "> This section is completely devoted to personal experiments and thoughts on fuzzy inference in computational intelligence. Nothing here is related to the project's references mentioned on GitHub.\r\n",
        "\r\n",
        "<br>\r\n",
        "\r\n",
        "Fuzzy inference systems are an interesting choice when it comes to decision-making processes. Unlike Bayesian inference, there doesn't seem to be a plausible way for a fuzzy system to retain or improve its knowledge over time, which could be seen as a weakness when comparing those 2 techniques.\r\n",
        "\r\n",
        "Nevertheless, fuzzy inference is interesting in its capacity to allow an agent to react to what's happening around it when faced with incomplete data. Through the use of rules and connectors, even simple ones, it can deal with complex decision-making situations.\r\n",
        "\r\n"
      ]
    }
  ]
}